{
 "cells": [
  {
   "cell_type": "markdown",
   "metadata": {},
   "source": [
    "# Quadractic\n",
    "\n",
    "Test how gradient descent diverges and converges on non-convex landscape."
   ]
  },
  {
   "cell_type": "markdown",
   "metadata": {},
   "source": [
    "Landscape is given by \n",
    "\n",
    "$$\n",
    "f(x) = x^2. \n",
    "$$\n",
    "gradient is\n",
    "$$\n",
    "f'(x) = 2x\n",
    "$$"
   ]
  },
  {
   "cell_type": "code",
   "execution_count": 1,
   "metadata": {},
   "outputs": [],
   "source": [
    "import numpy as np\n",
    "import matplotlib.pyplot as plt"
   ]
  },
  {
   "cell_type": "markdown",
   "metadata": {},
   "source": [
    "visualize the function"
   ]
  },
  {
   "cell_type": "code",
   "execution_count": 2,
   "metadata": {},
   "outputs": [],
   "source": [
    "def lossf(x,delta,wl):\n",
    "    return x**2"
   ]
  },
  {
   "cell_type": "markdown",
   "metadata": {},
   "source": [
    "Fisrt test divergence and convergence over standard quadratic functions"
   ]
  },
  {
   "cell_type": "code",
   "execution_count": 3,
   "metadata": {},
   "outputs": [],
   "source": [
    "def gradf(x,delta,wl):\n",
    "    return 2*x"
   ]
  },
  {
   "cell_type": "code",
   "execution_count": 4,
   "metadata": {},
   "outputs": [],
   "source": [
    "def GD(x0, lr, steps, delta, wl):\n",
    "    x_traj = np.zeros(steps+1)\n",
    "    x_traj[0] = x0\n",
    "    loss_traj = - np.ones(steps+1)\n",
    "    loss_traj[0] = lossf(x0,delta,wl)\n",
    "    for i in range(steps):\n",
    "        x_traj[i+1] = x0 - lr * gradf(x0,delta,wl)\n",
    "        x0 = x_traj[i+1]\n",
    "        loss_traj[i+1] = lossf(x0,delta,wl)\n",
    "        if loss_traj[i+1] > 1e+8:\n",
    "            loss_traj[i+1] = -1\n",
    "            break\n",
    "    return loss_traj, x_traj"
   ]
  },
  {
   "cell_type": "markdown",
   "metadata": {},
   "source": [
    "Do a scan in $s \\in (0,2)$ (s is the learning rate).\n",
    "\n",
    "$nn = 10$. We first select $2^{nn}+1$ grid points in $(0,2)$. And then record the convergence (use $-1$) or divergence (use $+1$)."
   ]
  },
  {
   "cell_type": "code",
   "execution_count": 5,
   "metadata": {},
   "outputs": [],
   "source": [
    "nn = 16\n",
    "s_span = np.linspace(0,1.5,2**nn+1)\n",
    "results = - np.ones(2**nn+1) # 0 must be -1\n",
    "\n",
    "for i in range(2**nn):\n",
    "    # 0 already known\n",
    "    s = s_span[i+1]\n",
    "    loss_traj, _ = GD(1.0, s, 1000, .2, .1)\n",
    "    if loss_traj[-1] == -1:\n",
    "        results[i+1] = 1"
   ]
  },
  {
   "cell_type": "code",
   "execution_count": 6,
   "metadata": {},
   "outputs": [],
   "source": [
    "numB = np.zeros(nn+1)\n",
    "for ni in range(nn+1):\n",
    "    nidx = np.arange(2**ni+1) * 2**(nn-ni)\n",
    "    nresult = results[nidx]\n",
    "    numB[ni] = np.sum((nresult[:-1] != nresult[1:]).astype(float))"
   ]
  },
  {
   "cell_type": "code",
   "execution_count": 7,
   "metadata": {},
   "outputs": [],
   "source": [
    "slope, cut = np.linalg.lstsq(np.vstack([np.arange(nn+1), np.ones(nn+1)]).T , np.log2(numB), rcond=None)[0]"
   ]
  },
  {
   "cell_type": "code",
   "execution_count": 8,
   "metadata": {},
   "outputs": [
    {
     "data": {
      "text/plain": [
       "(0.0, 0.05500000000000001)"
      ]
     },
     "execution_count": 8,
     "metadata": {},
     "output_type": "execute_result"
    },
    {
     "data": {
      "image/png": "[encoded data removed]",
      "text/plain": [
       "<Figure size 168.75x126.562 with 1 Axes>"
      ]
     },
     "metadata": {},
     "output_type": "display_data"
    }
   ],
   "source": [
    "plt.figure(figsize=(3.375/2, 3.375/8*3), constrained_layout=True)\n",
    "plt.plot(range(nn+1), np.log2(numB),'o')\n",
    "plt.plot(np.arange(nn+1), slope * np.arange(nn+1) + cut)\n",
    "plt.xlim(0,)\n",
    "plt.ylim(0,)\n",
    "#plt.xlabel('logN')\n",
    "#plt.ylabel('log#B')\n",
    "plt.savefig('./figures/rationcheck.pdf')"
   ]
  }
 ],
 "metadata": {
  "kernelspec": {
   "display_name": "base",
   "language": "python",
   "name": "python3"
  },
  "language_info": {
   "codemirror_mode": {
    "name": "ipython",
    "version": 3
   },
   "file_extension": ".py",
   "mimetype": "text/x-python",
   "name": "python",
   "nbconvert_exporter": "python",
   "pygments_lexer": "ipython3",
   "version": "3.10.9"
  }
 },
 "nbformat": 4,
 "nbformat_minor": 2
}
