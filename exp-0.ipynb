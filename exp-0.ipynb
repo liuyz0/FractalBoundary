{
 "cells": [
  {
   "cell_type": "code",
   "execution_count": 1,
   "metadata": {},
   "outputs": [],
   "source": [
    "#import mat73\n",
    "from scipy.io import loadmat\n",
    "import numpy as np\n",
    "import matplotlib.pyplot as plt"
   ]
  },
  {
   "cell_type": "code",
   "execution_count": 2,
   "metadata": {},
   "outputs": [],
   "source": [
    "load = loadmat(\"./exp-0-numB.mat\")\n",
    "numB = (load['numB']).reshape(-1)"
   ]
  },
  {
   "cell_type": "code",
   "execution_count": 3,
   "metadata": {},
   "outputs": [],
   "source": [
    "nn = 32"
   ]
  },
  {
   "cell_type": "code",
   "execution_count": 7,
   "metadata": {},
   "outputs": [
    {
     "name": "stderr",
     "output_type": "stream",
     "text": [
      "/var/folders/2p/nbx5ywzx6pbgscl0f724smw80000gn/T/ipykernel_7508/67502837.py:1: RuntimeWarning: divide by zero encountered in log2\n",
      "  pp, VV = np.polyfit(np.arange(nn+1)[np.log2(numB)>0], np.log2(numB)[np.log2(numB)>0], 1, cov=True)\n"
     ]
    },
    {
     "data": {
      "text/plain": [
       "0.004211674760864323"
      ]
     },
     "execution_count": 7,
     "metadata": {},
     "output_type": "execute_result"
    }
   ],
   "source": [
    "pp, VV = np.polyfit(np.arange(nn+1)[np.log2(numB)>0], np.log2(numB)[np.log2(numB)>0], 1, cov=True)\n",
    "slope, cut = pp\n",
    "np.sqrt(VV[0][0])"
   ]
  },
  {
   "cell_type": "code",
   "execution_count": 8,
   "metadata": {},
   "outputs": [
    {
     "data": {
      "text/plain": [
       "(0.0, 25.0)"
      ]
     },
     "execution_count": 8,
     "metadata": {},
     "output_type": "execute_result"
    },
    {
     "data": {
      "image/png": "[encoded data removed]",
      "text/plain": [
       "<Figure size 168.75x126.562 with 1 Axes>"
      ]
     },
     "metadata": {},
     "output_type": "display_data"
    }
   ],
   "source": [
    "plt.figure(figsize=(3.375/2, 3.375/8*3), constrained_layout=True)\n",
    "plt.plot(range(nn), np.log2(numB[:-1]),'o',ms=2)\n",
    "plt.plot(np.arange(nn), slope * np.arange(nn) + cut)\n",
    "plt.xlim(0,)\n",
    "plt.ylim(0,25)\n",
    "#plt.xlabel('logN')\n",
    "#plt.ylabel('log#B')\n",
    "#plt.savefig('./figures/exp-0.pdf')"
   ]
  }
 ],
 "metadata": {
  "kernelspec": {
   "display_name": "base",
   "language": "python",
   "name": "python3"
  },
  "language_info": {
   "codemirror_mode": {
    "name": "ipython",
    "version": 3
   },
   "file_extension": ".py",
   "mimetype": "text/x-python",
   "name": "python",
   "nbconvert_exporter": "python",
   "pygments_lexer": "ipython3",
   "version": "3.10.9"
  }
 },
 "nbformat": 4,
 "nbformat_minor": 2
}
