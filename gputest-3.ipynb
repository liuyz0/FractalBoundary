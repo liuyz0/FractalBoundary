{
 "cells": [
  {
   "cell_type": "code",
   "execution_count": 1,
   "metadata": {},
   "outputs": [
    {
     "name": "stderr",
     "output_type": "stream",
     "text": [
      "/state/partition1/llgrid/pkg/anaconda/anaconda3-2022b/lib/python3.8/site-packages/scipy/__init__.py:146: UserWarning: A NumPy version >=1.16.5 and <1.23.0 is required for this version of SciPy (detected version 1.23.4\n",
      "  warnings.warn(f\"A NumPy version >={np_minversion} and <{np_maxversion}\"\n"
     ]
    }
   ],
   "source": [
    "import numpy as np\n",
    "from numba import cuda\n",
    "import time\n",
    "import math\n",
    "import matplotlib.pyplot as plt\n",
    "from matplotlib.colors import LinearSegmentedColormap"
   ]
  },
  {
   "cell_type": "code",
   "execution_count": 2,
   "metadata": {},
   "outputs": [],
   "source": [
    "# Define a device function\n",
    "@cuda.jit(device=True)\n",
    "def gradf(x,delta,wl):\n",
    "    return 2*x*(1 + delta * math.cos(2*math.pi*x / wl)) - 2*math.pi*x**2 * delta * math.sin(2*math.pi*x / wl) / wl\n",
    "\n",
    "@cuda.jit(device=True)\n",
    "def lossf(x,delta,wl):\n",
    "    return x**2 * (1 + delta * math.cos(2*math.pi*x / wl))"
   ]
  },
  {
   "cell_type": "code",
   "execution_count": 3,
   "metadata": {},
   "outputs": [],
   "source": [
    "# Define a kernel that uses the device function\n",
    "@cuda.jit\n",
    "def GD(tensor, delta, wl, x, steps):\n",
    "    #tensor : block num, thread num, steps\n",
    "    ii = cuda.blockIdx.x\n",
    "    jj = cuda.threadIdx.x\n",
    "    lr = 1.5 / (tensor.shape[0] * tensor.shape[1] - 1) * (ii * tensor.shape[1] + jj)\n",
    "\n",
    "    for step in range(steps):\n",
    "        x = x - lr * gradf(x,delta,wl)\n",
    "        tensor[ii,jj,step] = lossf(x,delta,wl)"
   ]
  },
  {
   "cell_type": "code",
   "execution_count": 4,
   "metadata": {},
   "outputs": [
    {
     "name": "stdout",
     "output_type": "stream",
     "text": [
      "Time taken: 1.6191439628601074 seconds\n"
     ]
    }
   ],
   "source": [
    "delta, wl = np.float64(1e-3), np.float64(.1)\n",
    "x=np.float64(1.0)\n",
    "steps=1000\n",
    "numblocks = 2**10\n",
    "\n",
    "tensor = np.zeros((numblocks, 2**10, 1000), dtype = np.float64)\n",
    "tensord = cuda.to_device(tensor)\n",
    "\n",
    "# Measure time using time module\n",
    "start_time = time.time()\n",
    "\n",
    "GD[numblocks, 2**10](tensord, delta, wl, x, steps)\n",
    "\n",
    "# Wait for the kernel to finish\n",
    "cuda.synchronize()\n",
    "\n",
    "# Measure time using time module\n",
    "end_time = time.time()\n",
    "\n",
    "# Copy the result back to host\n",
    "tensord.copy_to_host(tensor)\n",
    "\n",
    "print(f\"Time taken: {end_time - start_time} seconds\")"
   ]
  },
  {
   "cell_type": "code",
   "execution_count": 5,
   "metadata": {},
   "outputs": [],
   "source": [
    "bound = 1e+16\n",
    "timeseries = np.reshape(tensor, (numblocks*2**10,1000))\n",
    "fin = np.isfinite(timeseries)\n",
    "timeseries = np.nan_to_num(timeseries, nan=bound)\n",
    "\n",
    "result = np.zeros((numblocks*2**10,2))\n",
    "\n",
    "result[timeseries[:,-1]>=bound, 0] = 1\n",
    "result[timeseries[:,-1]>=bound, 1] = np.sum((timeseries[timeseries[:,-1]>=bound])**(-1),axis = -1)\n",
    "\n",
    "result[timeseries[:,-1]<bound, 0] = 0\n",
    "result[timeseries[:,-1]<bound, 1] = np.sum(timeseries[timeseries[:,-1]<bound],axis = -1)"
   ]
  },
  {
   "cell_type": "code",
   "execution_count": 17,
   "metadata": {},
   "outputs": [
    {
     "data": {
      "image/png": "[encoded data removed]",
      "text/plain": [
       "<Figure size 2000x200 with 1 Axes>"
      ]
     },
     "metadata": {},
     "output_type": "display_data"
    }
   ],
   "source": [
    "# Sample data (replace with your actual data)\n",
    "n_points = 2**20\n",
    "x = np.arange(n_points)\n",
    "y = result[:,0]  # 0 for convergence, 1 for divergence\n",
    "z = result[:,1]  # convergence/divergence rate\n",
    "\n",
    "# Separate convergence and divergence rates\n",
    "z_convergence = z[y == 0]\n",
    "z_divergence = z[y == 1]\n",
    "\n",
    "# Apply logarithmic transformation\n",
    "z_convergence_log = np.log1p(z_convergence)  # log1p is used to handle values close to zero\n",
    "z_divergence_log = np.log1p(z_divergence)\n",
    "\n",
    "# Normalize separately\n",
    "z_convergence_norm = 3 * (z_convergence_log - z_convergence_log.min()) / (z_convergence_log.max() - z_convergence_log.min())\n",
    "z_divergence_norm = 3 * (z_divergence_log - z_divergence_log.min()) / (z_divergence_log.max() - z_divergence_log.min())\n",
    "\n",
    "# Create a normalized z array with the same order as the original data\n",
    "z_norm = np.zeros_like(z)\n",
    "z_norm[y == 0] = z_convergence_norm\n",
    "z_norm[y == 1] = z_divergence_norm\n",
    "\n",
    "# Create custom colormaps for blue and red, ranging from light to dark\n",
    "blue_cmap = LinearSegmentedColormap.from_list('blue_cmap', ['#add8e6', 'blue'])  # Light blue to dark blue\n",
    "red_cmap = LinearSegmentedColormap.from_list('red_cmap', ['#ffcccb', 'red'])  # Light red to dark red\n",
    "\n",
    "# Create an empty image array\n",
    "image_height = 1\n",
    "image_width = n_points\n",
    "image = np.zeros((image_height, image_width, 3))\n",
    "\n",
    "# Assign colors using colormaps\n",
    "for i in range(n_points):\n",
    "    if y[i] == 0:  # Convergence (blue)\n",
    "        image[0, i] = blue_cmap(z_norm[i])[:3]  # Use the first three elements (RGB) from the colormap\n",
    "    else:  # Divergence (red)\n",
    "        image[0, i] = red_cmap(z_norm[i])[:3]  # Use the first three elements (RGB) from the colormap\n",
    "\n",
    "# Display the image\n",
    "plt.figure(figsize=(20, 2))\n",
    "plt.imshow(image, aspect='auto', interpolation='none')\n",
    "plt.axis('off')  # Hide the axes\n",
    "#plt.title('Convergence (Light to Dark Blue) and Divergence (Light to Dark Red) with Intensity Based on Log Rate')\n",
    "plt.savefig('./visual.pdf')"
   ]
  },
  {
   "cell_type": "code",
   "execution_count": 7,
   "metadata": {},
   "outputs": [],
   "source": [
    "nn = 20\n",
    "results =  np.zeros(2**nn+1)\n",
    "results[1:] = result[:,0]\n",
    "numB = np.zeros(nn+1)\n",
    "for ni in range(nn+1):\n",
    "    nidx = np.arange(2**ni+1) * 2**(nn-ni)\n",
    "    nresult = results[nidx]\n",
    "    numB[ni] = np.sum((nresult[:-1] != nresult[1:]).astype(float))"
   ]
  },
  {
   "cell_type": "code",
   "execution_count": 8,
   "metadata": {},
   "outputs": [],
   "source": [
    "slope, cut = np.linalg.lstsq(np.vstack([np.arange(6,nn+1), np.ones(nn+1-6)]).T , np.log2(numB[6:]), rcond=None)[0]"
   ]
  },
  {
   "cell_type": "code",
   "execution_count": 9,
   "metadata": {},
   "outputs": [
    {
     "data": {
      "text/plain": [
       "Text(0, 0.5, 'log#B')"
      ]
     },
     "execution_count": 9,
     "metadata": {},
     "output_type": "execute_result"
    },
    {
     "data": {
      "image/png": "[encoded data removed]",
      "text/plain": [
       "<Figure size 640x480 with 1 Axes>"
      ]
     },
     "metadata": {},
     "output_type": "display_data"
    }
   ],
   "source": [
    "plt.plot(range(nn+1), np.log2(numB),'o')\n",
    "plt.plot(np.arange(nn+1), slope * np.arange(nn+1) + cut)\n",
    "plt.xlim(0,)\n",
    "plt.ylim(0,)\n",
    "plt.xlabel('logN')\n",
    "plt.ylabel('log#B')"
   ]
  },
  {
   "cell_type": "code",
   "execution_count": 10,
   "metadata": {},
   "outputs": [
    {
     "data": {
      "text/plain": [
       "0.953876517262881"
      ]
     },
     "execution_count": 10,
     "metadata": {},
     "output_type": "execute_result"
    }
   ],
   "source": [
    "slope"
   ]
  },
  {
   "cell_type": "code",
   "execution_count": null,
   "metadata": {},
   "outputs": [],
   "source": []
  }
 ],
 "metadata": {
  "kernelspec": {
   "display_name": "Python 3 (ipykernel)",
   "language": "python",
   "name": "python3"
  },
  "language_info": {
   "codemirror_mode": {
    "name": "ipython",
    "version": 3
   },
   "file_extension": ".py",
   "mimetype": "text/x-python",
   "name": "python",
   "nbconvert_exporter": "python",
   "pygments_lexer": "ipython3",
   "version": "3.8.15"
  }
 },
 "nbformat": 4,
 "nbformat_minor": 4
}
