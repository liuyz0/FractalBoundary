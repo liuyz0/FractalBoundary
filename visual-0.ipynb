{
 "cells": [
  {
   "cell_type": "markdown",
   "metadata": {},
   "source": [
    "# Visiallize the fractal set"
   ]
  },
  {
   "cell_type": "code",
   "execution_count": 135,
   "metadata": {},
   "outputs": [],
   "source": [
    "import numpy as np\n",
    "import matplotlib.pyplot as plt"
   ]
  },
  {
   "cell_type": "code",
   "execution_count": 136,
   "metadata": {},
   "outputs": [],
   "source": [
    "def lossf(x,delta,wl):\n",
    "    return x**2 * (1 + delta * np.cos(2*np.pi*x / wl))"
   ]
  },
  {
   "cell_type": "code",
   "execution_count": 137,
   "metadata": {},
   "outputs": [],
   "source": [
    "x = np.linspace(-2,2,1000)\n",
    "y = lossf(x, 0.2, 0.1)"
   ]
  },
  {
   "cell_type": "code",
   "execution_count": 138,
   "metadata": {},
   "outputs": [
    {
     "data": {
      "image/png": "[encoded data removed]",
      "text/plain": [
       "<Figure size 112.5x84.375 with 1 Axes>"
      ]
     },
     "metadata": {},
     "output_type": "display_data"
    }
   ],
   "source": [
    "plt.figure(figsize=(3.375/3, 3.375/12*3), constrained_layout=True)\n",
    "plt.plot(x,y,'k',linewidth = .6)\n",
    "plt.axis('off')\n",
    "plt.savefig('./figures/example1.eps')"
   ]
  },
  {
   "cell_type": "code",
   "execution_count": 139,
   "metadata": {},
   "outputs": [
    {
     "data": {
      "image/png": "[encoded data removed]",
      "text/plain": [
       "<Figure size 112.5x84.375 with 1 Axes>"
      ]
     },
     "metadata": {},
     "output_type": "display_data"
    }
   ],
   "source": [
    "plt.figure(figsize=(3.375/3, 3.375/12*3), constrained_layout=True)\n",
    "plt.plot(x,x**2,'k',linewidth = .6)\n",
    "plt.axis('off')\n",
    "plt.savefig('./figures/quadr.eps')"
   ]
  },
  {
   "cell_type": "code",
   "execution_count": 140,
   "metadata": {},
   "outputs": [
    {
     "data": {
      "image/png": "[encoded data removed]",
      "text/plain": [
       "<Figure size 112.5x84.375 with 1 Axes>"
      ]
     },
     "metadata": {},
     "output_type": "display_data"
    }
   ],
   "source": [
    "plt.figure(figsize=(3.375/3, 3.375/12*3), constrained_layout=True)\n",
    "plt.plot(x, 1 + 0.2 * np.cos(2*np.pi*x),'k',linewidth = .6)\n",
    "plt.plot(x,np.ones(x.shape[0]),'--k',linewidth = .6)\n",
    "plt.axis('off')\n",
    "plt.savefig('./figures/cos.eps')"
   ]
  },
  {
   "cell_type": "code",
   "execution_count": 141,
   "metadata": {},
   "outputs": [],
   "source": [
    "def gradf(x,delta,wl):\n",
    "    return 2*x*(1 + delta * np.cos(2*np.pi*x / wl)) - 2*np.pi*x**2 * delta * np.sin(2*np.pi*x / wl) / wl\n",
    "\n",
    "def GD(x0, lr, steps, delta, wl):\n",
    "    x_traj = np.zeros(steps+1)\n",
    "    x_traj[0] = x0\n",
    "    loss_traj = - np.ones(steps+1)\n",
    "    loss_traj[0] = lossf(x0,delta,wl)\n",
    "    for i in range(steps):\n",
    "        x_traj[i+1] = x0 - lr * gradf(x0,delta,wl)\n",
    "        x0 = x_traj[i+1]\n",
    "        loss_traj[i+1] = lossf(x0,delta,wl)\n",
    "        if loss_traj[i+1] > 1e+8:\n",
    "            loss_traj[i+1] = -1\n",
    "            break\n",
    "    return loss_traj, x_traj"
   ]
  },
  {
   "cell_type": "code",
   "execution_count": 142,
   "metadata": {},
   "outputs": [],
   "source": [
    "nn = 10\n",
    "s_span = np.linspace(0,1.5,2**nn+1)\n",
    "results = - np.ones(2**nn+1) # 0 must be -1\n",
    "\n",
    "for i in range(2**nn):\n",
    "    # 0 already known\n",
    "    s = s_span[i+1]\n",
    "    loss_traj, _ = GD(1.0, s, 1000, .2, .1)\n",
    "    if loss_traj[-1] == -1:\n",
    "        results[i+1] = 1"
   ]
  },
  {
   "cell_type": "code",
   "execution_count": 143,
   "metadata": {},
   "outputs": [
    {
     "data": {
      "image/png": "[encoded data removed]",
      "text/plain": [
       "<Figure size 168.75x126.562 with 1 Axes>"
      ]
     },
     "metadata": {},
     "output_type": "display_data"
    }
   ],
   "source": [
    "plt.figure(figsize=(3.375/2, 3.375/8*3), constrained_layout=True)\n",
    "for ni in range(nn+1):\n",
    "    nidx = np.arange(2**ni+1) * 2**(nn-ni)\n",
    "    nresult = results[nidx]\n",
    "    plt.hlines((nresult[:-1] != nresult[1:]).astype(float) * (1-0.8/nn*ni)\n",
    "               , np.linspace(0,1.5,2**ni+1)[:-1], np.linspace(0,1.5,2**ni+1)[1:],'k',linewidth = 3)\n",
    "plt.ylim(0.15, 1.05)\n",
    "plt.xlim(0, 1.5)\n",
    "plt.axis('off')\n",
    "plt.savefig('./figures/fractlines.eps')"
   ]
  }
 ],
 "metadata": {
  "kernelspec": {
   "display_name": "base",
   "language": "python",
   "name": "python3"
  },
  "language_info": {
   "codemirror_mode": {
    "name": "ipython",
    "version": 3
   },
   "file_extension": ".py",
   "mimetype": "text/x-python",
   "name": "python",
   "nbconvert_exporter": "python",
   "pygments_lexer": "ipython3",
   "version": "3.10.9"
  }
 },
 "nbformat": 4,
 "nbformat_minor": 2
}
